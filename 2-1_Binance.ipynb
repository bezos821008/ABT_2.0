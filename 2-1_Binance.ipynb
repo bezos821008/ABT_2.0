{
 "cells": [
  {
   "cell_type": "code",
   "execution_count": 2,
   "id": "60e80f71",
   "metadata": {},
   "outputs": [],
   "source": [
    "import os\n",
    "import pickle\n",
    "import requests"
   ]
  },
  {
   "cell_type": "code",
   "execution_count": 7,
   "id": "5703ee1c",
   "metadata": {},
   "outputs": [],
   "source": [
    "exchange = ccxt.binance({\n",
    "    'enableRateLimit': True,\n",
    "})\n",
    "USD_Response  = requests.request('GET','https://dapi.binance.com/dapi/v1/premiumIndex').json()\n",
    "USDT_Response = requests.request('GET','https://fapi.binance.com/fapi/v1/premiumIndex').json()"
   ]
  },
  {
   "cell_type": "code",
   "execution_count": null,
   "id": "16ccef7e",
   "metadata": {
    "scrolled": true
   },
   "outputs": [],
   "source": []
  },
  {
   "cell_type": "code",
   "execution_count": 12,
   "id": "e078f3b1",
   "metadata": {},
   "outputs": [],
   "source": [
    "def Binance_USD_List(USD_Resonse):\n",
    "    USD_Symbol_List  = []\n",
    "    \n",
    "    for i in USD_Response:\n",
    "        Symbol_List = []\n",
    "        Symbol = i['symbol'].split('_')\n",
    "        if Symbol[1] == 'PERP':\n",
    "            \n",
    "            base  = Symbol[0].replace('USD',\"\")\n",
    "            quote = Symbol[0].replace(base,\"\")\n",
    "            \n",
    "            Symbol_List.append('Binance')\n",
    "            Symbol_List.append(base+'_'+quote)\n",
    "            Symbol_List.append(i['symbol'])\n",
    "            Symbol_List.append(float(i['interestRate'])*100)\n",
    "            Symbol_List.append('USD-PERP')\n",
    "            USD_Symbol_List.append(Symbol_List)\n",
    "    \n",
    "    return(USD_Symbol_List)"
   ]
  },
  {
   "cell_type": "code",
   "execution_count": null,
   "id": "1028fbcd",
   "metadata": {},
   "outputs": [],
   "source": []
  },
  {
   "cell_type": "code",
   "execution_count": 13,
   "id": "f7cf6bd3",
   "metadata": {},
   "outputs": [],
   "source": [
    "def Binance_USDT_List(USDT_Resonse):\n",
    "    USDT_Symbol_List  = []\n",
    "    \n",
    "    for i in USDT_Response:\n",
    "        Symbol_List = []\n",
    "        \n",
    "        base  = i['symbol'].replace('USDT',\"\")\n",
    "        quote = i['symbol'].replace(base,\"\")\n",
    "        \n",
    "        Symbol_List.append('Binance')\n",
    "        Symbol_List.append(base+'_'+quote)\n",
    "        Symbol_List.append(i['symbol'])\n",
    "        Symbol_List.append(float(i['interestRate'])*100)\n",
    "        Symbol_List.append('USDT-PERP')\n",
    "        USDT_Symbol_List.append(Symbol_List)\n",
    "    return(USDT_Symbol_List)"
   ]
  },
  {
   "cell_type": "code",
   "execution_count": null,
   "id": "bdb6ca98",
   "metadata": {},
   "outputs": [],
   "source": []
  },
  {
   "cell_type": "code",
   "execution_count": null,
   "id": "65b09aea",
   "metadata": {},
   "outputs": [],
   "source": []
  },
  {
   "cell_type": "code",
   "execution_count": 14,
   "id": "f246d85e",
   "metadata": {},
   "outputs": [],
   "source": [
    "Binance_USD_List = Binance_USD_List(USD_Response)\n",
    "Binance_USDT_List = Binance_USDT_List(USDT_Response)"
   ]
  },
  {
   "cell_type": "code",
   "execution_count": 16,
   "id": "87c296f5",
   "metadata": {},
   "outputs": [
    {
     "data": {
      "text/plain": [
       "[['Binance', 'RAY_USDT', 'RAYUSDT', 0.01, 'USDT-PERP'],\n",
       " ['Binance', 'SUSHI_USDT', 'SUSHIUSDT', 0.01, 'USDT-PERP'],\n",
       " ['Binance', 'CVC_USDT', 'CVCUSDT', 0.01, 'USDT-PERP'],\n",
       " ['Binance', 'BTS_USDT', 'BTSUSDT', 0.01, 'USDT-PERP'],\n",
       " ['Binance', 'HOT_USDT', 'HOTUSDT', 0.01, 'USDT-PERP'],\n",
       " ['Binance', 'ZRX_USDT', 'ZRXUSDT', 0.01, 'USDT-PERP'],\n",
       " ['Binance', 'QTUM_USDT', 'QTUMUSDT', 0.01, 'USDT-PERP'],\n",
       " ['Binance', 'IOTA_USDT', 'IOTAUSDT', 0.01, 'USDT-PERP'],\n",
       " ['Binance', 'BTCBUSD_', 'BTCBUSD', 0.01, 'USDT-PERP'],\n",
       " ['Binance', 'WAVES_USDT', 'WAVESUSDT', 0.01, 'USDT-PERP'],\n",
       " ['Binance', 'ADA_USDT', 'ADAUSDT', 0.01, 'USDT-PERP'],\n",
       " ['Binance', 'LIT_USDT', 'LITUSDT', 0.01, 'USDT-PERP'],\n",
       " ['Binance', 'NU_USDT', 'NUUSDT', 0.01, 'USDT-PERP'],\n",
       " ['Binance', 'XTZ_USDT', 'XTZUSDT', 0.01, 'USDT-PERP'],\n",
       " ['Binance', 'BNB_USDT', 'BNBUSDT', 0.0, 'USDT-PERP'],\n",
       " ['Binance', 'AKRO_USDT', 'AKROUSDT', 0.01, 'USDT-PERP'],\n",
       " ['Binance', 'HNT_USDT', 'HNTUSDT', 0.01, 'USDT-PERP'],\n",
       " ['Binance', 'ETC_USDT', 'ETCUSDT', 0.01, 'USDT-PERP'],\n",
       " ['Binance', 'XMR_USDT', 'XMRUSDT', 0.01, 'USDT-PERP'],\n",
       " ['Binance', 'YFI_USDT', 'YFIUSDT', 0.01, 'USDT-PERP'],\n",
       " ['Binance', 'FTTBUSD_', 'FTTBUSD', 0.01, 'USDT-PERP'],\n",
       " ['Binance', 'ETH_USDT', 'ETHUSDT', 0.01, 'USDT-PERP'],\n",
       " ['Binance', 'ALICE_USDT', 'ALICEUSDT', 0.01, 'USDT-PERP'],\n",
       " ['Binance', 'ALPHA_USDT', 'ALPHAUSDT', 0.01, 'USDT-PERP'],\n",
       " ['Binance', 'SFP_USDT', 'SFPUSDT', 0.01, 'USDT-PERP'],\n",
       " ['Binance', 'REEF_USDT', 'REEFUSDT', 0.01, 'USDT-PERP'],\n",
       " ['Binance', 'BAT_USDT', 'BATUSDT', 0.01, 'USDT-PERP'],\n",
       " ['Binance', 'DOGE_USDT', 'DOGEUSDT', 0.01, 'USDT-PERP'],\n",
       " ['Binance', 'RLC_USDT', 'RLCUSDT', 0.01, 'USDT-PERP'],\n",
       " ['Binance', 'TRX_USDT', 'TRXUSDT', 0.01, 'USDT-PERP'],\n",
       " ['Binance', 'BTCST_USDT', 'BTCSTUSDT', 0.0, 'USDT-PERP'],\n",
       " ['Binance', 'STORJ_USDT', 'STORJUSDT', 0.01, 'USDT-PERP'],\n",
       " ['Binance', 'SNX_USDT', 'SNXUSDT', 0.01, 'USDT-PERP'],\n",
       " ['Binance', '1000XEC_USDT', '1000XECUSDT', 0.01, 'USDT-PERP'],\n",
       " ['Binance', 'AUDIO_USDT', 'AUDIOUSDT', 0.01, 'USDT-PERP'],\n",
       " ['Binance', 'XLM_USDT', 'XLMUSDT', 0.01, 'USDT-PERP'],\n",
       " ['Binance', 'IOTX_USDT', 'IOTXUSDT', 0.01, 'USDT-PERP'],\n",
       " ['Binance', 'NEO_USDT', 'NEOUSDT', 0.01, 'USDT-PERP'],\n",
       " ['Binance', 'UNFI_USDT', 'UNFIUSDT', 0.01, 'USDT-PERP'],\n",
       " ['Binance', 'SAND_USDT', 'SANDUSDT', 0.01, 'USDT-PERP'],\n",
       " ['Binance', 'DASH_USDT', 'DASHUSDT', 0.01, 'USDT-PERP'],\n",
       " ['Binance', 'KAVA_USDT', 'KAVAUSDT', 0.01, 'USDT-PERP'],\n",
       " ['Binance', 'RUNE_USDT', 'RUNEUSDT', 0.01, 'USDT-PERP'],\n",
       " ['Binance', 'CTK_USDT', 'CTKUSDT', 0.01, 'USDT-PERP'],\n",
       " ['Binance', 'LINK_USDT', 'LINKUSDT', 0.01, 'USDT-PERP'],\n",
       " ['Binance', 'CELR_USDT', 'CELRUSDT', 0.01, 'USDT-PERP'],\n",
       " ['Binance', 'RSR_USDT', 'RSRUSDT', 0.01, 'USDT-PERP'],\n",
       " ['Binance', 'ADABUSD_', 'ADABUSD', 0.01, 'USDT-PERP'],\n",
       " ['Binance', 'DGB_USDT', 'DGBUSDT', 0.01, 'USDT-PERP'],\n",
       " ['Binance', 'SKL_USDT', 'SKLUSDT', 0.01, 'USDT-PERP'],\n",
       " ['Binance', 'REN_USDT', 'RENUSDT', 0.01, 'USDT-PERP'],\n",
       " ['Binance', 'LPT_USDT', 'LPTUSDT', 0.01, 'USDT-PERP'],\n",
       " ['Binance', 'TOMO_USDT', 'TOMOUSDT', 0.01, 'USDT-PERP'],\n",
       " ['Binance', 'MTL_USDT', 'MTLUSDT', 0.01, 'USDT-PERP'],\n",
       " ['Binance', 'LTC_USDT', 'LTCUSDT', 0.01, 'USDT-PERP'],\n",
       " ['Binance', 'DODO_USDT', 'DODOUSDT', 0.01, 'USDT-PERP'],\n",
       " ['Binance', 'KSM_USDT', 'KSMUSDT', 0.01, 'USDT-PERP'],\n",
       " ['Binance', 'EGLD_USDT', 'EGLDUSDT', 0.01, 'USDT-PERP'],\n",
       " ['Binance', 'BNBBUSD_', 'BNBBUSD', 0.0, 'USDT-PERP'],\n",
       " ['Binance', 'VET_USDT', 'VETUSDT', 0.01, 'USDT-PERP'],\n",
       " ['Binance', 'ONT_USDT', 'ONTUSDT', 0.01, 'USDT-PERP'],\n",
       " ['Binance', 'TRB_USDT', 'TRBUSDT', 0.01, 'USDT-PERP'],\n",
       " ['Binance', 'MANA_USDT', 'MANAUSDT', 0.01, 'USDT-PERP'],\n",
       " ['Binance', 'COTI_USDT', 'COTIUSDT', 0.01, 'USDT-PERP'],\n",
       " ['Binance', 'CHR_USDT', 'CHRUSDT', 0.01, 'USDT-PERP'],\n",
       " ['Binance', 'BAKE_USDT', 'BAKEUSDT', 0.01, 'USDT-PERP'],\n",
       " ['Binance', 'GRT_USDT', 'GRTUSDT', 0.01, 'USDT-PERP'],\n",
       " ['Binance', 'ETH_220325_ETHUSDT_220325', 'ETHUSDT_220325', 0.0, 'USDT-PERP'],\n",
       " ['Binance', 'FLM_USDT', 'FLMUSDT', 0.01, 'USDT-PERP'],\n",
       " ['Binance', 'MASK_USDT', 'MASKUSDT', 0.01, 'USDT-PERP'],\n",
       " ['Binance', 'EOS_USDT', 'EOSUSDT', 0.01, 'USDT-PERP'],\n",
       " ['Binance', 'OGN_USDT', 'OGNUSDT', 0.01, 'USDT-PERP'],\n",
       " ['Binance', 'SC_USDT', 'SCUSDT', 0.01, 'USDT-PERP'],\n",
       " ['Binance', 'BAL_USDT', 'BALUSDT', 0.01, 'USDT-PERP'],\n",
       " ['Binance', 'STMX_USDT', 'STMXUSDT', 0.01, 'USDT-PERP'],\n",
       " ['Binance', 'BTT_USDT', 'BTTUSDT', 0.01, 'USDT-PERP'],\n",
       " ['Binance', 'LUNA_USDT', 'LUNAUSDT', 0.01, 'USDT-PERP'],\n",
       " ['Binance', 'DENT_USDT', 'DENTUSDT', 0.01, 'USDT-PERP'],\n",
       " ['Binance', 'KNC_USDT', 'KNCUSDT', 0.01, 'USDT-PERP'],\n",
       " ['Binance', 'SRM_USDT', 'SRMUSDT', 0.01, 'USDT-PERP'],\n",
       " ['Binance', 'ENJ_USDT', 'ENJUSDT', 0.01, 'USDT-PERP'],\n",
       " ['Binance', 'C98_USDT', 'C98USDT', 0.01, 'USDT-PERP'],\n",
       " ['Binance', 'ZEN_USDT', 'ZENUSDT', 0.01, 'USDT-PERP'],\n",
       " ['Binance', 'ATOM_USDT', 'ATOMUSDT', 0.01, 'USDT-PERP'],\n",
       " ['Binance', 'NEAR_USDT', 'NEARUSDT', 0.01, 'USDT-PERP'],\n",
       " ['Binance', 'SOLBUSD_', 'SOLBUSD', 0.01, 'USDT-PERP'],\n",
       " ['Binance', 'ENS_USDT', 'ENSUSDT', 0.01, 'USDT-PERP'],\n",
       " ['Binance', 'BCH_USDT', 'BCHUSDT', 0.01, 'USDT-PERP'],\n",
       " ['Binance', 'ATA_USDT', 'ATAUSDT', 0.01, 'USDT-PERP'],\n",
       " ['Binance', 'IOST_USDT', 'IOSTUSDT', 0.01, 'USDT-PERP'],\n",
       " ['Binance', 'HBAR_USDT', 'HBARUSDT', 0.01, 'USDT-PERP'],\n",
       " ['Binance', 'ZEC_USDT', 'ZECUSDT', 0.01, 'USDT-PERP'],\n",
       " ['Binance', '1000SHIB_USDT', '1000SHIBUSDT', 0.01, 'USDT-PERP'],\n",
       " ['Binance', 'TLM_USDT', 'TLMUSDT', 0.01, 'USDT-PERP'],\n",
       " ['Binance', 'ANT_USDT', 'ANTUSDT', 0.01, 'USDT-PERP'],\n",
       " ['Binance', 'ETHBUSD_', 'ETHBUSD', 0.01, 'USDT-PERP'],\n",
       " ['Binance', 'GALA_USDT', 'GALAUSDT', 0.01, 'USDT-PERP'],\n",
       " ['Binance', 'AAVE_USDT', 'AAVEUSDT', 0.01, 'USDT-PERP'],\n",
       " ['Binance', 'GTC_USDT', 'GTCUSDT', 0.01, 'USDT-PERP'],\n",
       " ['Binance', 'ALGO_USDT', 'ALGOUSDT', 0.01, 'USDT-PERP'],\n",
       " ['Binance', 'ICP_USDT', 'ICPUSDT', 0.01, 'USDT-PERP'],\n",
       " ['Binance', 'LRC_USDT', 'LRCUSDT', 0.01, 'USDT-PERP'],\n",
       " ['Binance', 'AVAX_USDT', 'AVAXUSDT', 0.01, 'USDT-PERP'],\n",
       " ['Binance', 'BTC_220325_BTCUSDT_220325', 'BTCUSDT_220325', 0.0, 'USDT-PERP'],\n",
       " ['Binance', 'ARPA_USDT', 'ARPAUSDT', 0.01, 'USDT-PERP'],\n",
       " ['Binance', 'CELO_USDT', 'CELOUSDT', 0.01, 'USDT-PERP'],\n",
       " ['Binance', 'ROSE_USDT', 'ROSEUSDT', 0.01, 'USDT-PERP'],\n",
       " ['Binance', 'MATIC_USDT', 'MATICUSDT', 0.01, 'USDT-PERP'],\n",
       " ['Binance', '1INCH_USDT', '1INCHUSDT', 0.01, 'USDT-PERP'],\n",
       " ['Binance', 'MKR_USDT', 'MKRUSDT', 0.01, 'USDT-PERP'],\n",
       " ['Binance', 'PEOPLE_USDT', 'PEOPLEUSDT', 0.01, 'USDT-PERP'],\n",
       " ['Binance', 'THETA_USDT', 'THETAUSDT', 0.01, 'USDT-PERP'],\n",
       " ['Binance', 'UNI_USDT', 'UNIUSDT', 0.01, 'USDT-PERP'],\n",
       " ['Binance', 'LINA_USDT', 'LINAUSDT', 0.01, 'USDT-PERP'],\n",
       " ['Binance', 'AR_USDT', 'ARUSDT', 0.01, 'USDT-PERP'],\n",
       " ['Binance', 'RVN_USDT', 'RVNUSDT', 0.01, 'USDT-PERP'],\n",
       " ['Binance', 'FIL_USDT', 'FILUSDT', 0.01, 'USDT-PERP'],\n",
       " ['Binance', 'NKN_USDT', 'NKNUSDT', 0.01, 'USDT-PERP'],\n",
       " ['Binance', 'KLAY_USDT', 'KLAYUSDT', 0.01, 'USDT-PERP'],\n",
       " ['Binance', 'DEFI_USDT', 'DEFIUSDT', 0.01, 'USDT-PERP'],\n",
       " ['Binance', 'COMP_USDT', 'COMPUSDT', 0.01, 'USDT-PERP'],\n",
       " ['Binance', 'BTCDOM_USDT', 'BTCDOMUSDT', 0.01, 'USDT-PERP'],\n",
       " ['Binance', 'SOL_USDT', 'SOLUSDT', 0.01, 'USDT-PERP'],\n",
       " ['Binance', 'BTC_USDT', 'BTCUSDT', 0.01, 'USDT-PERP'],\n",
       " ['Binance', 'OMG_USDT', 'OMGUSDT', 0.01, 'USDT-PERP'],\n",
       " ['Binance', 'ICX_USDT', 'ICXUSDT', 0.01, 'USDT-PERP'],\n",
       " ['Binance', 'BLZ_USDT', 'BLZUSDT', 0.01, 'USDT-PERP'],\n",
       " ['Binance', 'FTM_USDT', 'FTMUSDT', 0.01, 'USDT-PERP'],\n",
       " ['Binance', 'YFII_USDT', 'YFIIUSDT', 0.01, 'USDT-PERP'],\n",
       " ['Binance', 'KEEP_USDT', 'KEEPUSDT', 0.01, 'USDT-PERP'],\n",
       " ['Binance', 'BAND_USDT', 'BANDUSDT', 0.01, 'USDT-PERP'],\n",
       " ['Binance', 'XRPBUSD_', 'XRPBUSD', 0.01, 'USDT-PERP'],\n",
       " ['Binance', 'DOGEBUSD_', 'DOGEBUSD', 0.01, 'USDT-PERP'],\n",
       " ['Binance', 'XRP_USDT', 'XRPUSDT', 0.01, 'USDT-PERP'],\n",
       " ['Binance', 'SXP_USDT', 'SXPUSDT', 0.01, 'USDT-PERP'],\n",
       " ['Binance', 'CRV_USDT', 'CRVUSDT', 0.01, 'USDT-PERP'],\n",
       " ['Binance', 'BEL_USDT', 'BELUSDT', 0.01, 'USDT-PERP'],\n",
       " ['Binance', 'DOT_USDT', 'DOTUSDT', 0.01, 'USDT-PERP'],\n",
       " ['Binance', 'XEM_USDT', 'XEMUSDT', 0.01, 'USDT-PERP'],\n",
       " ['Binance', 'ONE_USDT', 'ONEUSDT', 0.01, 'USDT-PERP'],\n",
       " ['Binance', 'ZIL_USDT', 'ZILUSDT', 0.01, 'USDT-PERP'],\n",
       " ['Binance', 'AXS_USDT', 'AXSUSDT', 0.01, 'USDT-PERP'],\n",
       " ['Binance', 'DYDX_USDT', 'DYDXUSDT', 0.01, 'USDT-PERP'],\n",
       " ['Binance', 'OCEAN_USDT', 'OCEANUSDT', 0.01, 'USDT-PERP'],\n",
       " ['Binance', 'CHZ_USDT', 'CHZUSDT', 0.01, 'USDT-PERP'],\n",
       " ['Binance', 'ANKR_USDT', 'ANKRUSDT', 0.01, 'USDT-PERP'],\n",
       " ['Binance', 'DUSK_USDT', 'DUSKUSDT', 0.01, 'USDT-PERP'],\n",
       " ['Binance', 'CTSI_USDT', 'CTSIUSDT', 0.01, 'USDT-PERP']]"
      ]
     },
     "execution_count": 16,
     "metadata": {},
     "output_type": "execute_result"
    }
   ],
   "source": [
    "Binance_USDT_List"
   ]
  },
  {
   "cell_type": "code",
   "execution_count": null,
   "id": "83d4a415",
   "metadata": {},
   "outputs": [],
   "source": []
  },
  {
   "cell_type": "code",
   "execution_count": null,
   "id": "46336890",
   "metadata": {},
   "outputs": [],
   "source": []
  },
  {
   "cell_type": "code",
   "execution_count": 6,
   "id": "9e63c339",
   "metadata": {},
   "outputs": [],
   "source": [
    "def Pickle_Save(File_Name,Data):\n",
    "    file_path = os.getcwd() + '\\Data_Bin\\Pickle\\{}.pickle'.format(File_Name)\n",
    "    \n",
    "    with open(file_path, 'wb') as f:\n",
    "        pickle.dump(Data, f)"
   ]
  },
  {
   "cell_type": "code",
   "execution_count": 7,
   "id": "31ac76f4",
   "metadata": {},
   "outputs": [],
   "source": [
    "Pickle_Save('Binance_USD',Binance_USD_Data)\n",
    "Pickle_Save('Binance_USDT',Binance_USDT_Data)"
   ]
  },
  {
   "cell_type": "code",
   "execution_count": null,
   "id": "f5ec0311",
   "metadata": {},
   "outputs": [],
   "source": []
  },
  {
   "cell_type": "code",
   "execution_count": 8,
   "id": "8f254b8d",
   "metadata": {},
   "outputs": [],
   "source": [
    "def Pickle_Load(File_Name):\n",
    "    file_path = os.getcwd() + '\\Data_Bin\\Pickle\\{}.pickle'.format(File_Name)\n",
    "    \n",
    "    with open(file_path, 'rb') as f:\n",
    "        dt = pickle.load(f)\n",
    "    \n",
    "    return(dt)"
   ]
  },
  {
   "cell_type": "code",
   "execution_count": null,
   "id": "a0ea4b41",
   "metadata": {},
   "outputs": [],
   "source": []
  },
  {
   "cell_type": "code",
   "execution_count": null,
   "id": "71393697",
   "metadata": {},
   "outputs": [],
   "source": []
  },
  {
   "cell_type": "code",
   "execution_count": 13,
   "id": "260b4839",
   "metadata": {},
   "outputs": [
    {
     "data": {
      "text/plain": [
       "[['Binance', 'FIL_USD', 'FILUSD_PERP', 0.01, 'USD-PERP'],\n",
       " ['Binance', 'BCH_USD', 'BCHUSD_PERP', 0.01, 'USD-PERP'],\n",
       " ['Binance', 'LINK_USD', 'LINKUSD_PERP', 0.01, 'USD-PERP'],\n",
       " ['Binance', 'BTC_USD', 'BTCUSD_PERP', 0.01, 'USD-PERP'],\n",
       " ['Binance', 'LUNA_USD', 'LUNAUSD_PERP', 0.01, 'USD-PERP'],\n",
       " ['Binance', 'XRP_USD', 'XRPUSD_PERP', 0.01, 'USD-PERP'],\n",
       " ['Binance', 'GALA_USD', 'GALAUSD_PERP', 0.01, 'USD-PERP'],\n",
       " ['Binance', 'TRX_USD', 'TRXUSD_PERP', 0.01, 'USD-PERP'],\n",
       " ['Binance', 'DOGE_USD', 'DOGEUSD_PERP', 0.01, 'USD-PERP'],\n",
       " ['Binance', 'AVAX_USD', 'AVAXUSD_PERP', 0.01, 'USD-PERP'],\n",
       " ['Binance', 'SAND_USD', 'SANDUSD_PERP', 0.01, 'USD-PERP'],\n",
       " ['Binance', 'MATIC_USD', 'MATICUSD_PERP', 0.01, 'USD-PERP'],\n",
       " ['Binance', 'CRV_USD', 'CRVUSD_PERP', 0.01, 'USD-PERP'],\n",
       " ['Binance', 'EOS_USD', 'EOSUSD_PERP', 0.01, 'USD-PERP'],\n",
       " ['Binance', 'ATOM_USD', 'ATOMUSD_PERP', 0.01, 'USD-PERP'],\n",
       " ['Binance', 'THETA_USD', 'THETAUSD_PERP', 0.01, 'USD-PERP'],\n",
       " ['Binance', 'XLM_USD', 'XLMUSD_PERP', 0.01, 'USD-PERP'],\n",
       " ['Binance', 'ETC_USD', 'ETCUSD_PERP', 0.01, 'USD-PERP'],\n",
       " ['Binance', 'UNI_USD', 'UNIUSD_PERP', 0.01, 'USD-PERP'],\n",
       " ['Binance', 'EGLD_USD', 'EGLDUSD_PERP', 0.01, 'USD-PERP'],\n",
       " ['Binance', 'LTC_USD', 'LTCUSD_PERP', 0.01, 'USD-PERP'],\n",
       " ['Binance', 'MANA_USD', 'MANAUSD_PERP', 0.01, 'USD-PERP'],\n",
       " ['Binance', 'FTM_USD', 'FTMUSD_PERP', 0.01, 'USD-PERP'],\n",
       " ['Binance', 'DOT_USD', 'DOTUSD_PERP', 0.01, 'USD-PERP'],\n",
       " ['Binance', 'AAVE_USD', 'AAVEUSD_PERP', 0.01, 'USD-PERP'],\n",
       " ['Binance', 'ETH_USD', 'ETHUSD_PERP', 0.01, 'USD-PERP'],\n",
       " ['Binance', 'ADA_USD', 'ADAUSD_PERP', 0.01, 'USD-PERP'],\n",
       " ['Binance', 'BNB_USD', 'BNBUSD_PERP', 0.0, 'USD-PERP'],\n",
       " ['Binance', 'SOL_USD', 'SOLUSD_PERP', 0.01, 'USD-PERP'],\n",
       " ['Binance', 'ROSE_USD', 'ROSEUSD_PERP', 0.01, 'USD-PERP'],\n",
       " ['Binance', 'AXS_USD', 'AXSUSD_PERP', 0.01, 'USD-PERP'],\n",
       " ['Binance', 'NEAR_USD', 'NEARUSD_PERP', 0.01, 'USD-PERP']]"
      ]
     },
     "execution_count": 13,
     "metadata": {},
     "output_type": "execute_result"
    }
   ],
   "source": [
    "Pickle_Load('Binance_USD')"
   ]
  },
  {
   "cell_type": "code",
   "execution_count": 12,
   "id": "329d27d1",
   "metadata": {},
   "outputs": [],
   "source": [
    "#Pickle_Load('Binance_USDT')"
   ]
  },
  {
   "cell_type": "code",
   "execution_count": null,
   "id": "8362face",
   "metadata": {},
   "outputs": [],
   "source": []
  },
  {
   "cell_type": "code",
   "execution_count": null,
   "id": "53b1bc7e",
   "metadata": {},
   "outputs": [],
   "source": []
  }
 ],
 "metadata": {
  "kernelspec": {
   "display_name": "Python 3 (ipykernel)",
   "language": "python",
   "name": "python3"
  },
  "language_info": {
   "codemirror_mode": {
    "name": "ipython",
    "version": 3
   },
   "file_extension": ".py",
   "mimetype": "text/x-python",
   "name": "python",
   "nbconvert_exporter": "python",
   "pygments_lexer": "ipython3",
   "version": "3.9.7"
  }
 },
 "nbformat": 4,
 "nbformat_minor": 5
}
