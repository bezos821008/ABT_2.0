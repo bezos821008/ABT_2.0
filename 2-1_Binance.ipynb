{
 "cells": [
  {
   "cell_type": "code",
   "execution_count": 22,
   "id": "60e80f71",
   "metadata": {},
   "outputs": [],
   "source": [
    "import os\n",
    "import pickle\n",
    "import requests\n",
    "from fake_useragent import UserAgent"
   ]
  },
  {
   "cell_type": "code",
   "execution_count": null,
   "id": "16ccef7e",
   "metadata": {
    "scrolled": true
   },
   "outputs": [],
   "source": []
  },
  {
   "cell_type": "code",
   "execution_count": 23,
   "id": "e078f3b1",
   "metadata": {},
   "outputs": [],
   "source": [
    "def Binance_USD():\n",
    "    Values  = []\n",
    "    \n",
    "    Response  = requests.request('GET','https://dapi.binance.com/dapi/v1/premiumIndex',headers={'user-agent': UserAgent().random})\n",
    "    Response.close\n",
    "    \n",
    "    Response_Json = Response.json()\n",
    "    \n",
    "    for i in Response_Json:\n",
    "        Symbol_List = []\n",
    "        Symbol = i['symbol'].split('_')\n",
    "        if Symbol[1] == 'PERP':\n",
    "            \n",
    "            base  = Symbol[0].replace('USD',\"\")\n",
    "            quote = Symbol[0].replace(base,\"\")\n",
    "            \n",
    "            Symbol_List.append('Binance')\n",
    "            Symbol_List.append(base+'_'+quote)\n",
    "            Symbol_List.append(i['symbol'])\n",
    "            Symbol_List.append(float(i['lastFundingRate'])*100)\n",
    "            Symbol_List.append('USD-PERP')\n",
    "            \n",
    "            #Symbol_List.append(time.strftime(\"%Y-%m-%d %H:%M:%S\", time.localtime()))\n",
    "            #Symbol_List.append(datetime.fromtimestamp(int(i['nextFundingTime'])/1000).strftime('%Y-%m-%d %H:%M:%S'))\n",
    "            \n",
    "            \n",
    "            Values.append(Symbol_List)\n",
    "    \n",
    "    return(Values)"
   ]
  },
  {
   "cell_type": "code",
   "execution_count": null,
   "id": "1028fbcd",
   "metadata": {},
   "outputs": [],
   "source": []
  },
  {
   "cell_type": "code",
   "execution_count": 24,
   "id": "f7cf6bd3",
   "metadata": {},
   "outputs": [],
   "source": [
    "def Binance_USDT():\n",
    "    Values  = []\n",
    "    \n",
    "    Response = requests.request('GET','https://fapi.binance.com/fapi/v1/premiumIndex',headers={'user-agent': UserAgent().random})\n",
    "    Response.close\n",
    "    \n",
    "    Response_Json = Response.json()\n",
    "    \n",
    "    for i in Response_Json:\n",
    "        Symbol_List = []\n",
    "        \n",
    "        base  = i['symbol'].replace('USDT',\"\")\n",
    "        quote = i['symbol'].replace(base,\"\")\n",
    "        \n",
    "        Symbol_List.append('Binance')\n",
    "        Symbol_List.append(base+'_'+quote)\n",
    "        Symbol_List.append(i['symbol'])\n",
    "        Symbol_List.append(float(i['lastFundingRate'])*100)\n",
    "        Symbol_List.append('USDT-PERP')\n",
    "        \n",
    "        #Symbol_List.append(time.strftime(\"%Y-%m-%d %H:%M:%S\", time.localtime()))\n",
    "        #Symbol_List.append(datetime.fromtimestamp(int(i['nextFundingTime'])/1000).strftime('%Y-%m-%d %H:%M:%S'))\n",
    "        Values.append(Symbol_List)\n",
    "    return(Values)"
   ]
  },
  {
   "cell_type": "code",
   "execution_count": null,
   "id": "46336890",
   "metadata": {},
   "outputs": [],
   "source": []
  },
  {
   "cell_type": "code",
   "execution_count": 25,
   "id": "9e63c339",
   "metadata": {},
   "outputs": [],
   "source": [
    "def Pickle_Save(File_Name,Data):\n",
    "    file_path = os.getcwd() + '\\Data_Bin\\Pickle\\{}.pickle'.format(File_Name)\n",
    "    \n",
    "    with open(file_path, 'wb') as f:\n",
    "        pickle.dump(Data, f)"
   ]
  },
  {
   "cell_type": "code",
   "execution_count": 26,
   "id": "31ac76f4",
   "metadata": {},
   "outputs": [],
   "source": [
    "Pickle_Save('Binance_USD',Binance_USD())\n",
    "Pickle_Save('Binance_USDT',Binance_USDT())"
   ]
  },
  {
   "cell_type": "code",
   "execution_count": null,
   "id": "f5ec0311",
   "metadata": {},
   "outputs": [],
   "source": []
  },
  {
   "cell_type": "code",
   "execution_count": 27,
   "id": "8f254b8d",
   "metadata": {},
   "outputs": [],
   "source": [
    "def Pickle_Load(File_Name):\n",
    "    file_path = os.getcwd() + '\\Data_Bin\\Pickle\\{}.pickle'.format(File_Name)\n",
    "    \n",
    "    with open(file_path, 'rb') as f:\n",
    "        dt = pickle.load(f)\n",
    "    \n",
    "    return(dt)"
   ]
  },
  {
   "cell_type": "code",
   "execution_count": null,
   "id": "71393697",
   "metadata": {},
   "outputs": [],
   "source": []
  },
  {
   "cell_type": "code",
   "execution_count": 31,
   "id": "260b4839",
   "metadata": {},
   "outputs": [],
   "source": [
    "#Pickle_Load('Binance_USD')"
   ]
  },
  {
   "cell_type": "code",
   "execution_count": 30,
   "id": "329d27d1",
   "metadata": {},
   "outputs": [],
   "source": [
    "#Pickle_Load('Binance_USDT')"
   ]
  },
  {
   "cell_type": "code",
   "execution_count": null,
   "id": "53b1bc7e",
   "metadata": {},
   "outputs": [],
   "source": []
  },
  {
   "cell_type": "code",
   "execution_count": null,
   "id": "d4ad6a12",
   "metadata": {},
   "outputs": [],
   "source": []
  }
 ],
 "metadata": {
  "kernelspec": {
   "display_name": "Python 3 (ipykernel)",
   "language": "python",
   "name": "python3"
  },
  "language_info": {
   "codemirror_mode": {
    "name": "ipython",
    "version": 3
   },
   "file_extension": ".py",
   "mimetype": "text/x-python",
   "name": "python",
   "nbconvert_exporter": "python",
   "pygments_lexer": "ipython3",
   "version": "3.9.7"
  }
 },
 "nbformat": 4,
 "nbformat_minor": 5
}
