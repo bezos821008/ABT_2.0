{
 "cells": [
  {
   "cell_type": "code",
   "execution_count": 8,
   "id": "7151d5b2",
   "metadata": {},
   "outputs": [],
   "source": [
    "import numpy as np\n",
    "import pandas as pd\n",
    "import pickle\n",
    "import os\n",
    "import requests\n",
    "from fake_useragent import UserAgent"
   ]
  },
  {
   "cell_type": "code",
   "execution_count": 9,
   "id": "7be6b9e7",
   "metadata": {},
   "outputs": [],
   "source": [
    "def General_FundingRate_Load(File_Name):\n",
    "    file_path = os.getcwd() + '\\Data_Bin\\\\General_FundingRate\\{}.pickle'.format(File_Name)\n",
    "    \n",
    "    with open(file_path, 'rb') as f:\n",
    "        dt = pickle.load(f)\n",
    "    \n",
    "    return(dt)"
   ]
  },
  {
   "cell_type": "code",
   "execution_count": 10,
   "id": "20d58403",
   "metadata": {},
   "outputs": [],
   "source": [
    "gr_dt = General_FundingRate_Load('General_Table')\n",
    "fr_dt = General_FundingRate_Load('FundingRate_Table')"
   ]
  },
  {
   "cell_type": "code",
   "execution_count": 11,
   "id": "5e3a0fd1",
   "metadata": {},
   "outputs": [],
   "source": [
    "def General_For_Pandas():\n",
    "    gr_dt = General_FundingRate_Load('General_Table')\n",
    "    \n",
    "    gr_list = []\n",
    "    \n",
    "    for i in gr_dt:\n",
    "        for x in gr_dt[i]:\n",
    "            gr_list.append(x)\n",
    "            \n",
    "    df = pd.DataFrame(gr_list,columns=['Exchange','Public_Symbol','Private_Symbol','Funding_Rate','Type'])\n",
    "    return(df)"
   ]
  },
  {
   "cell_type": "code",
   "execution_count": 12,
   "id": "3063ab5c",
   "metadata": {},
   "outputs": [],
   "source": [
    "df = General_For_Pandas()"
   ]
  },
  {
   "cell_type": "code",
   "execution_count": 13,
   "id": "75e31357",
   "metadata": {},
   "outputs": [],
   "source": [
    "min_df = df.sort_values(by=['Funding_Rate'])\n",
    "max_df = df.sort_values(by=['Funding_Rate'], ascending=False)"
   ]
  },
  {
   "cell_type": "code",
   "execution_count": 14,
   "id": "fea92fcf",
   "metadata": {},
   "outputs": [],
   "source": [
    "def Funding_Rate_For_Pandas():\n",
    "    fr_dt = General_FundingRate_Load('FundingRate_Table')\n",
    "    \n",
    "    fr_list = []\n",
    "    \n",
    "    for i in fr_dt:\n",
    "        fr_list.append(i)\n",
    "     \n",
    "    df = pd.DataFrame(fr_list,columns=['Exchange_A','Exchange_B',\n",
    "                                       'Public_Symbol',\n",
    "                                       'Private_A','Private_B',\n",
    "                                       'FR_A','RF_B',\n",
    "                                       'FR_Div','FR_Div_Abs'])\n",
    "    return(df)"
   ]
  },
  {
   "cell_type": "code",
   "execution_count": null,
   "id": "954c7885",
   "metadata": {},
   "outputs": [],
   "source": []
  },
  {
   "cell_type": "code",
   "execution_count": 16,
   "id": "7ae55a13",
   "metadata": {},
   "outputs": [],
   "source": [
    "#Funding_Rate_For_Pandas()"
   ]
  },
  {
   "cell_type": "code",
   "execution_count": null,
   "id": "50cc1e3c",
   "metadata": {},
   "outputs": [],
   "source": []
  },
  {
   "cell_type": "code",
   "execution_count": null,
   "id": "a56dc033",
   "metadata": {},
   "outputs": [],
   "source": []
  }
 ],
 "metadata": {
  "kernelspec": {
   "display_name": "Python 3 (ipykernel)",
   "language": "python",
   "name": "python3"
  },
  "language_info": {
   "codemirror_mode": {
    "name": "ipython",
    "version": 3
   },
   "file_extension": ".py",
   "mimetype": "text/x-python",
   "name": "python",
   "nbconvert_exporter": "python",
   "pygments_lexer": "ipython3",
   "version": "3.9.7"
  }
 },
 "nbformat": 4,
 "nbformat_minor": 5
}
