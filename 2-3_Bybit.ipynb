{
 "cells": [
  {
   "cell_type": "code",
   "execution_count": 1,
   "id": "cf5ace74",
   "metadata": {},
   "outputs": [],
   "source": [
    "import os\n",
    "import pickle\n",
    "import requests\n",
    "from fake_useragent import UserAgent"
   ]
  },
  {
   "cell_type": "code",
   "execution_count": null,
   "id": "471de33b",
   "metadata": {},
   "outputs": [],
   "source": []
  },
  {
   "cell_type": "code",
   "execution_count": 2,
   "id": "696ce1c6",
   "metadata": {},
   "outputs": [],
   "source": [
    "def Bybit_USDT():\n",
    "    Values  = []\n",
    "    \n",
    "    Response = requests.request('GET','https://api.bybit.com/v2/public/tickers',headers={'user-agent': UserAgent().random})\n",
    "    Response.close\n",
    "    Response_Json = Response.json()['result']\n",
    "    \n",
    "    for i in Response_Json:\n",
    "        symbol = i['symbol'].split('USD')\n",
    "        base  = str(symbol[0])\n",
    "        quote = str('USD' + symbol[1])\n",
    "        if symbol[1] == '' or symbol[1]=='T':\n",
    "            Symbol_List = []\n",
    "            Symbol_List.append('Bybit')\n",
    "            Symbol_List.append(base+'_'+quote)\n",
    "            Symbol_List.append(base+quote+' ' + quote + ' ' + 'Perpetual')\n",
    "            Symbol_List.append(float(i['funding_rate'])*100)\n",
    "            Symbol_List.append(quote+'-PERP')\n",
    "            Values.append(Symbol_List)\n",
    "    return(Values)"
   ]
  },
  {
   "cell_type": "code",
   "execution_count": null,
   "id": "32945b7e",
   "metadata": {},
   "outputs": [],
   "source": []
  },
  {
   "cell_type": "code",
   "execution_count": 3,
   "id": "fb922b08",
   "metadata": {},
   "outputs": [],
   "source": [
    "def Pickle_Save(File_Name,Data):\n",
    "    file_path = os.getcwd() + '\\Data_Bin\\Pickle\\{}.pickle'.format(File_Name)\n",
    "    \n",
    "    with open(file_path, 'wb') as f:\n",
    "        pickle.dump(Data, f)"
   ]
  },
  {
   "cell_type": "code",
   "execution_count": 4,
   "id": "3bcaef85",
   "metadata": {},
   "outputs": [],
   "source": [
    "Pickle_Save('Bybit_USD_USDT',Bybit_USDT())"
   ]
  },
  {
   "cell_type": "code",
   "execution_count": null,
   "id": "c2ac58d0",
   "metadata": {},
   "outputs": [],
   "source": []
  },
  {
   "cell_type": "code",
   "execution_count": 5,
   "id": "3091835c",
   "metadata": {},
   "outputs": [],
   "source": [
    "def Pickle_Load(File_Name):\n",
    "    file_path = os.getcwd() + '\\Data_Bin\\Pickle\\{}.pickle'.format(File_Name)\n",
    "    \n",
    "    with open(file_path, 'rb') as f:\n",
    "        dt = pickle.load(f)\n",
    "    \n",
    "    return(dt)"
   ]
  },
  {
   "cell_type": "code",
   "execution_count": 7,
   "id": "cca31a84",
   "metadata": {},
   "outputs": [],
   "source": [
    "#Pickle_Load('Bybit_USD_USDT')"
   ]
  },
  {
   "cell_type": "code",
   "execution_count": null,
   "id": "0428c18a",
   "metadata": {},
   "outputs": [],
   "source": []
  }
 ],
 "metadata": {
  "kernelspec": {
   "display_name": "Python 3 (ipykernel)",
   "language": "python",
   "name": "python3"
  },
  "language_info": {
   "codemirror_mode": {
    "name": "ipython",
    "version": 3
   },
   "file_extension": ".py",
   "mimetype": "text/x-python",
   "name": "python",
   "nbconvert_exporter": "python",
   "pygments_lexer": "ipython3",
   "version": "3.9.7"
  }
 },
 "nbformat": 4,
 "nbformat_minor": 5
}
