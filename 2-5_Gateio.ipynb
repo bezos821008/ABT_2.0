{
 "cells": [
  {
   "cell_type": "code",
   "execution_count": 28,
   "id": "9674120d",
   "metadata": {},
   "outputs": [],
   "source": [
    "import requests\n",
    "import os\n",
    "import pickle"
   ]
  },
  {
   "cell_type": "code",
   "execution_count": null,
   "id": "d0da6923",
   "metadata": {},
   "outputs": [],
   "source": []
  },
  {
   "cell_type": "code",
   "execution_count": 24,
   "id": "9fc6bc32",
   "metadata": {},
   "outputs": [],
   "source": [
    "def FTX_USD_USDT_List(usd_usdt):\n",
    "    host = \"https://api.gateio.ws\"\n",
    "    prefix = \"/api/v4\"\n",
    "    headers = {'Accept': 'application/json', 'Content-Type': 'application/json'}\n",
    "    url = '/futures/{}/contracts'.format(usd_usdt)\n",
    "    r = requests.request('GET', host + prefix + url, headers=headers)\n",
    "    Response = r.json()\n",
    "    \n",
    "    USD_USDT_Symbol_List  = []\n",
    "    for i in Response:\n",
    "        symbol = i['name'].split('_')\n",
    "        base  = symbol[0]\n",
    "        quote = symbol[1]\n",
    "        Symbol_List = []\n",
    "        Symbol_List.append('Gateio')\n",
    "        Symbol_List.append(base+'_'+quote)\n",
    "        Symbol_List.append(base+'/'+quote+' PERP')\n",
    "        Symbol_List.append(float(i['funding_rate'])*100)\n",
    "        Symbol_List.append(quote + '-PERP')\n",
    "\n",
    "        USD_USDT_Symbol_List.append(Symbol_List)\n",
    "    return(USD_USDT_Symbol_List)\n"
   ]
  },
  {
   "cell_type": "code",
   "execution_count": null,
   "id": "98fab341",
   "metadata": {},
   "outputs": [],
   "source": []
  },
  {
   "cell_type": "code",
   "execution_count": null,
   "id": "c8b0d897",
   "metadata": {},
   "outputs": [],
   "source": []
  },
  {
   "cell_type": "code",
   "execution_count": 26,
   "id": "b7052e29",
   "metadata": {},
   "outputs": [],
   "source": [
    "def Pickle_Save(File_Name,Data):\n",
    "    file_path = os.getcwd() + '\\Data_Bin\\Pickle\\{}.pickle'.format(File_Name)\n",
    "    \n",
    "    with open(file_path, 'wb') as f:\n",
    "        pickle.dump(Data, f)"
   ]
  },
  {
   "cell_type": "code",
   "execution_count": 27,
   "id": "5be1f550",
   "metadata": {},
   "outputs": [],
   "source": [
    "Pickle_Save('Gateio_USD',FTX_USD_USDT_List('usd'))\n",
    "Pickle_Save('Gateio_USDT',FTX_USD_USDT_List('usdt'))"
   ]
  },
  {
   "cell_type": "code",
   "execution_count": null,
   "id": "25abb348",
   "metadata": {},
   "outputs": [],
   "source": []
  },
  {
   "cell_type": "code",
   "execution_count": null,
   "id": "c1c16a6c",
   "metadata": {},
   "outputs": [],
   "source": []
  },
  {
   "cell_type": "code",
   "execution_count": 29,
   "id": "3b7c8d8e",
   "metadata": {},
   "outputs": [],
   "source": [
    "def Pickle_Load(File_Name):\n",
    "    file_path = os.getcwd() + '\\Data_Bin\\Pickle\\{}.pickle'.format(File_Name)\n",
    "    \n",
    "    with open(file_path, 'rb') as f:\n",
    "        dt = pickle.load(f)\n",
    "    \n",
    "    return(dt)"
   ]
  },
  {
   "cell_type": "code",
   "execution_count": 32,
   "id": "dd181116",
   "metadata": {},
   "outputs": [],
   "source": [
    "#Pickle_Load('Gateio_USDT')"
   ]
  },
  {
   "cell_type": "code",
   "execution_count": null,
   "id": "71c825ae",
   "metadata": {},
   "outputs": [],
   "source": []
  }
 ],
 "metadata": {
  "kernelspec": {
   "display_name": "Python 3 (ipykernel)",
   "language": "python",
   "name": "python3"
  },
  "language_info": {
   "codemirror_mode": {
    "name": "ipython",
    "version": 3
   },
   "file_extension": ".py",
   "mimetype": "text/x-python",
   "name": "python",
   "nbconvert_exporter": "python",
   "pygments_lexer": "ipython3",
   "version": "3.9.7"
  }
 },
 "nbformat": 4,
 "nbformat_minor": 5
}
