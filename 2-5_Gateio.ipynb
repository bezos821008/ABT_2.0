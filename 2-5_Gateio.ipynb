{
 "cells": [
  {
   "cell_type": "code",
   "execution_count": 1,
   "id": "9674120d",
   "metadata": {},
   "outputs": [],
   "source": [
    "import os\n",
    "import pickle\n",
    "import requests\n",
    "from fake_useragent import UserAgent"
   ]
  },
  {
   "cell_type": "code",
   "execution_count": null,
   "id": "6ae974e6",
   "metadata": {},
   "outputs": [],
   "source": []
  },
  {
   "cell_type": "code",
   "execution_count": 2,
   "id": "9fc6bc32",
   "metadata": {},
   "outputs": [],
   "source": [
    "def Gateio_USD():\n",
    "    \n",
    "    Values  = []\n",
    "    \n",
    "    Response = requests.request('GET','https://api.gateio.ws/api/v4/futures/usd/tickers',headers={'user-agent': UserAgent().random})\n",
    "    Response.close\n",
    "    Response_Json = Response.json()\n",
    "    \n",
    "    for i in Response_Json:\n",
    "        symbol = i['contract'].split('_')\n",
    "        base  = symbol[0]\n",
    "        quote = symbol[1]\n",
    "        Symbol_List = []\n",
    "        Symbol_List.append('Gateio')\n",
    "        Symbol_List.append(base+'_'+quote)\n",
    "        Symbol_List.append(base+'/'+quote+' PERP')\n",
    "        Symbol_List.append(float(i['funding_rate'])*100)\n",
    "        Symbol_List.append(quote + '-PERP')\n",
    "\n",
    "        Values.append(Symbol_List)\n",
    "    return(Values)\n"
   ]
  },
  {
   "cell_type": "code",
   "execution_count": null,
   "id": "0c0903f9",
   "metadata": {},
   "outputs": [],
   "source": []
  },
  {
   "cell_type": "code",
   "execution_count": 3,
   "id": "98fab341",
   "metadata": {},
   "outputs": [],
   "source": [
    "def Gateio_USDT():\n",
    "    \n",
    "    Values  = []\n",
    "    \n",
    "    Response = requests.request('GET','https://api.gateio.ws/api/v4/futures/usdt/tickers',headers={'user-agent': UserAgent().random})\n",
    "    Response.close\n",
    "    Response_Json = Response.json()\n",
    "    \n",
    "    for i in Response_Json:\n",
    "        symbol = i['contract'].split('_')\n",
    "        base  = symbol[0]\n",
    "        quote = symbol[1]\n",
    "        Symbol_List = []\n",
    "        Symbol_List.append('Gateio')\n",
    "        Symbol_List.append(base+'_'+quote)\n",
    "        Symbol_List.append(base+'/'+quote+' PERP')\n",
    "        Symbol_List.append(float(i['funding_rate'])*100)\n",
    "        Symbol_List.append(quote + '-PERP')\n",
    "\n",
    "        Values.append(Symbol_List)\n",
    "    return(Values)"
   ]
  },
  {
   "cell_type": "code",
   "execution_count": null,
   "id": "0cdf893f",
   "metadata": {},
   "outputs": [],
   "source": []
  },
  {
   "cell_type": "code",
   "execution_count": null,
   "id": "c8b0d897",
   "metadata": {},
   "outputs": [],
   "source": []
  },
  {
   "cell_type": "code",
   "execution_count": 4,
   "id": "b7052e29",
   "metadata": {},
   "outputs": [],
   "source": [
    "def Pickle_Save(File_Name,Data):\n",
    "    file_path = os.getcwd() + '\\Data_Bin\\Pickle\\{}.pickle'.format(File_Name)\n",
    "    \n",
    "    with open(file_path, 'wb') as f:\n",
    "        pickle.dump(Data, f)"
   ]
  },
  {
   "cell_type": "code",
   "execution_count": 5,
   "id": "5be1f550",
   "metadata": {},
   "outputs": [],
   "source": [
    "Pickle_Save('Gateio_USD',Gateio_USD())\n",
    "Pickle_Save('Gateio_USDT',Gateio_USDT())"
   ]
  },
  {
   "cell_type": "code",
   "execution_count": null,
   "id": "c1c16a6c",
   "metadata": {},
   "outputs": [],
   "source": []
  },
  {
   "cell_type": "code",
   "execution_count": 6,
   "id": "3b7c8d8e",
   "metadata": {},
   "outputs": [],
   "source": [
    "def Pickle_Load(File_Name):\n",
    "    file_path = os.getcwd() + '\\Data_Bin\\Pickle\\{}.pickle'.format(File_Name)\n",
    "    \n",
    "    with open(file_path, 'rb') as f:\n",
    "        dt = pickle.load(f)\n",
    "    \n",
    "    return(dt)"
   ]
  },
  {
   "cell_type": "code",
   "execution_count": 9,
   "id": "dd181116",
   "metadata": {},
   "outputs": [],
   "source": [
    "#Pickle_Load('Gateio_USD')"
   ]
  },
  {
   "cell_type": "code",
   "execution_count": 10,
   "id": "71c825ae",
   "metadata": {},
   "outputs": [],
   "source": [
    "#Pickle_Load('Gateio_USDT')"
   ]
  },
  {
   "cell_type": "code",
   "execution_count": null,
   "id": "d78f4332",
   "metadata": {},
   "outputs": [],
   "source": []
  }
 ],
 "metadata": {
  "kernelspec": {
   "display_name": "Python 3 (ipykernel)",
   "language": "python",
   "name": "python3"
  },
  "language_info": {
   "codemirror_mode": {
    "name": "ipython",
    "version": 3
   },
   "file_extension": ".py",
   "mimetype": "text/x-python",
   "name": "python",
   "nbconvert_exporter": "python",
   "pygments_lexer": "ipython3",
   "version": "3.9.7"
  }
 },
 "nbformat": 4,
 "nbformat_minor": 5
}
