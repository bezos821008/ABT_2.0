{
 "cells": [
  {
   "cell_type": "code",
   "execution_count": 7,
   "id": "80d6d78b",
   "metadata": {},
   "outputs": [],
   "source": [
    "import os\n",
    "import pickle\n",
    "import requests\n",
    "from fake_useragent import UserAgent"
   ]
  },
  {
   "cell_type": "code",
   "execution_count": null,
   "id": "96ef6e85",
   "metadata": {},
   "outputs": [],
   "source": []
  },
  {
   "cell_type": "code",
   "execution_count": 8,
   "id": "22a44252",
   "metadata": {},
   "outputs": [],
   "source": [
    "def Bitfinex_USDT():\n",
    "    \n",
    "    Values  = []\n",
    "    \n",
    "    Response = requests.get('https://api-pub.bitfinex.com/v2/status/deriv?keys=ALL',headers={'user-agent': UserAgent().random})\n",
    "    Response.close\n",
    "    Response_Json = Response.json()\n",
    "    \n",
    "    for i in Response_Json:\n",
    "        Currency_Dict = i[0].split(':')\n",
    "        if Currency_Dict[1] == 'USTF0':\n",
    "\n",
    "            Symbol_List = []\n",
    "            base  = Currency_Dict[0].replace('F0',\"\")\n",
    "            base  = base[1:]\n",
    "            quote = 'USDT'\n",
    "            Symbol_List.append('Bitfinex')\n",
    "            Symbol_List.append(base+'_'+quote)\n",
    "            Symbol_List.append(base+'-PERP')\n",
    "            Symbol_List.append(float(i[12])*100)\n",
    "            Symbol_List.append(quote+'-PERP')\n",
    "            Values.append(Symbol_List)\n",
    "    return(Values)"
   ]
  },
  {
   "cell_type": "code",
   "execution_count": null,
   "id": "3440180a",
   "metadata": {},
   "outputs": [],
   "source": []
  },
  {
   "cell_type": "code",
   "execution_count": 9,
   "id": "2623ac0d",
   "metadata": {},
   "outputs": [],
   "source": [
    "def Pickle_Save(File_Name,Data):\n",
    "    file_path = os.getcwd() + '\\Data_Bin\\Pickle\\{}.pickle'.format(File_Name)\n",
    "    \n",
    "    with open(file_path, 'wb') as f:\n",
    "        pickle.dump(Data, f)"
   ]
  },
  {
   "cell_type": "code",
   "execution_count": 10,
   "id": "76a5e886",
   "metadata": {},
   "outputs": [],
   "source": [
    "Pickle_Save('Bitfinex_USDT',Bitfinex_USDT())"
   ]
  },
  {
   "cell_type": "code",
   "execution_count": null,
   "id": "96fe5200",
   "metadata": {},
   "outputs": [],
   "source": []
  },
  {
   "cell_type": "code",
   "execution_count": 11,
   "id": "8f9d5012",
   "metadata": {},
   "outputs": [],
   "source": [
    "def Pickle_Load(File_Name):\n",
    "    file_path = os.getcwd() + '\\Data_Bin\\Pickle\\{}.pickle'.format(File_Name)\n",
    "    \n",
    "    with open(file_path, 'rb') as f:\n",
    "        dt = pickle.load(f)\n",
    "    \n",
    "    return(dt)"
   ]
  },
  {
   "cell_type": "code",
   "execution_count": 12,
   "id": "f4a470c9",
   "metadata": {},
   "outputs": [],
   "source": [
    "#Pickle_Load('Bitfinex_USDT')"
   ]
  },
  {
   "cell_type": "code",
   "execution_count": null,
   "id": "b0d7e035",
   "metadata": {},
   "outputs": [],
   "source": []
  }
 ],
 "metadata": {
  "kernelspec": {
   "display_name": "Python 3 (ipykernel)",
   "language": "python",
   "name": "python3"
  },
  "language_info": {
   "codemirror_mode": {
    "name": "ipython",
    "version": 3
   },
   "file_extension": ".py",
   "mimetype": "text/x-python",
   "name": "python",
   "nbconvert_exporter": "python",
   "pygments_lexer": "ipython3",
   "version": "3.9.7"
  }
 },
 "nbformat": 4,
 "nbformat_minor": 5
}
