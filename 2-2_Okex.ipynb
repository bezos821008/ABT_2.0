{
 "cells": [
  {
   "cell_type": "code",
   "execution_count": 29,
   "id": "946f22a9",
   "metadata": {},
   "outputs": [],
   "source": [
    "import os\n",
    "import pickle\n",
    "import requests\n",
    "from fake_useragent import UserAgent"
   ]
  },
  {
   "cell_type": "code",
   "execution_count": null,
   "id": "3c67dea3",
   "metadata": {},
   "outputs": [],
   "source": []
  },
  {
   "cell_type": "code",
   "execution_count": 30,
   "id": "ec184d11",
   "metadata": {},
   "outputs": [],
   "source": [
    "def Okex_USD_USDT():\n",
    "    \n",
    "    Values = []\n",
    "    \n",
    "    Response = requests.request('GET','https://www.okex.com/api/swap/v3/instruments',headers={'user-agent': UserAgent().random})\n",
    "    Response.close\n",
    "    \n",
    "    Response_Json = Response.json()\n",
    "    \n",
    "    for i in Response_Json:\n",
    "        Symbol_List = []\n",
    "        url = 'https://www.okex.com/api/swap/v3/instruments/{}/funding_time'.format(i['instrument_id'])\n",
    "        Symbol_Data = requests.request('GET',url).json()\n",
    "        \n",
    "        Symbol_List.append('Okex')\n",
    "        \n",
    "        symbol = Symbol_Data['instrument_id'].split('-')\n",
    "        base = symbol[0]\n",
    "        quote = symbol[1]\n",
    "        \n",
    "        Symbol_List.append(base+'_'+quote)\n",
    "        Symbol_List.append(base+quote+' PERP')\n",
    "        Symbol_List.append(float(Symbol_Data['funding_rate'])*100)\n",
    "        Symbol_List.append(quote + '-PERP')\n",
    "        \n",
    "        #Symbol_List.append(time.strftime(\"%Y-%m-%d %H:%M:%S\", time.localtime()))\n",
    "        #Symbol_List.append(Symbol_Data['settlement_time'].replace('T',' ').replace('.000Z',''))\n",
    "        \n",
    "        Values.append(Symbol_List)\n",
    "        \n",
    "    return(Values)"
   ]
  },
  {
   "cell_type": "code",
   "execution_count": null,
   "id": "38a12f4f",
   "metadata": {},
   "outputs": [],
   "source": []
  },
  {
   "cell_type": "code",
   "execution_count": 31,
   "id": "37a1cd11",
   "metadata": {},
   "outputs": [],
   "source": [
    "def Pickle_Save(File_Name,Data):\n",
    "    file_path = os.getcwd() + '\\Data_Bin\\Pickle\\{}.pickle'.format(File_Name)\n",
    "    \n",
    "    with open(file_path, 'wb') as f:\n",
    "        pickle.dump(Data, f)"
   ]
  },
  {
   "cell_type": "code",
   "execution_count": 32,
   "id": "f404356c",
   "metadata": {},
   "outputs": [],
   "source": [
    "Pickle_Save('Okex_USD_USDT',Okex_USD_USDT())"
   ]
  },
  {
   "cell_type": "code",
   "execution_count": null,
   "id": "eec6f073",
   "metadata": {},
   "outputs": [],
   "source": []
  },
  {
   "cell_type": "code",
   "execution_count": 33,
   "id": "948a93f5",
   "metadata": {},
   "outputs": [],
   "source": [
    "def Pickle_Load(File_Name):\n",
    "    file_path = os.getcwd() + '\\Data_Bin\\Pickle\\{}.pickle'.format(File_Name)\n",
    "    \n",
    "    with open(file_path, 'rb') as f:\n",
    "        dt = pickle.load(f)\n",
    "    \n",
    "    return(dt)"
   ]
  },
  {
   "cell_type": "code",
   "execution_count": 34,
   "id": "930a5f4b",
   "metadata": {},
   "outputs": [],
   "source": [
    "#Pickle_Load('Okex_USD_USDT')"
   ]
  },
  {
   "cell_type": "code",
   "execution_count": null,
   "id": "0ddefa86",
   "metadata": {},
   "outputs": [],
   "source": []
  },
  {
   "cell_type": "code",
   "execution_count": null,
   "id": "e0b73121",
   "metadata": {},
   "outputs": [],
   "source": []
  }
 ],
 "metadata": {
  "kernelspec": {
   "display_name": "Python 3 (ipykernel)",
   "language": "python",
   "name": "python3"
  },
  "language_info": {
   "codemirror_mode": {
    "name": "ipython",
    "version": 3
   },
   "file_extension": ".py",
   "mimetype": "text/x-python",
   "name": "python",
   "nbconvert_exporter": "python",
   "pygments_lexer": "ipython3",
   "version": "3.9.7"
  }
 },
 "nbformat": 4,
 "nbformat_minor": 5
}
