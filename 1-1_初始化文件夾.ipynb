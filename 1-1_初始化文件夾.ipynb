{
 "cells": [
  {
   "cell_type": "code",
   "execution_count": 2,
   "id": "e331a2db",
   "metadata": {},
   "outputs": [],
   "source": [
    "import os"
   ]
  },
  {
   "cell_type": "code",
   "execution_count": 3,
   "id": "a94a1d73",
   "metadata": {},
   "outputs": [],
   "source": [
    "def Create_Bin_Dirs(Bin_Name):\n",
    "    filepath = os.getcwd() + r'\\\\' + Bin_Name\n",
    "    print(filepath)\n",
    "    if os.path.exists(filepath) == False:\n",
    "        os.makedirs(filepath)"
   ]
  },
  {
   "cell_type": "code",
   "execution_count": 4,
   "id": "e8953a23",
   "metadata": {},
   "outputs": [],
   "source": [
    "def Create_File_Dirs(Bin_Name,Dirs_Name):\n",
    "    bin_path  = os.getcwd() + r'\\\\' + '{}'.format(Bin_Name)\n",
    "    file_path = os.getcwd() + '\\{}\\\\'.format(Bin_Name) + Dirs_Name\n",
    "    #print(file_path)\n",
    "    if os.path.exists(bin_path) == True:\n",
    "        if os.path.exists(file_path) == False:\n",
    "            os.makedirs(file_path)\n",
    "            print(file_path)"
   ]
  },
  {
   "cell_type": "code",
   "execution_count": 5,
   "id": "7ac54fe4",
   "metadata": {},
   "outputs": [
    {
     "name": "stdout",
     "output_type": "stream",
     "text": [
      "C:\\Users\\Chiang\\Arbitrage_2.0\\\\Data_Bin\n",
      "C:\\Users\\Chiang\\Arbitrage_2.0\\\\SQL_Bin\n"
     ]
    }
   ],
   "source": [
    "Create_Bin_Dirs('Data_Bin')\n",
    "Create_Bin_Dirs('SQL_Bin')"
   ]
  },
  {
   "cell_type": "code",
   "execution_count": 7,
   "id": "85159039",
   "metadata": {},
   "outputs": [
    {
     "name": "stdout",
     "output_type": "stream",
     "text": [
      "C:\\Users\\Chiang\\Arbitrage_2.0\\Data_Bin\\General_FundingRate\n"
     ]
    }
   ],
   "source": [
    "Create_File_Dirs('Data_Bin','Pickle')\n",
    "Create_File_Dirs('Data_Bin','General_FundingRate')\n",
    "Create_File_Dirs('SQL_Bin','SQL_Table')"
   ]
  },
  {
   "cell_type": "code",
   "execution_count": null,
   "id": "f432657f",
   "metadata": {},
   "outputs": [],
   "source": []
  }
 ],
 "metadata": {
  "kernelspec": {
   "display_name": "Python 3 (ipykernel)",
   "language": "python",
   "name": "python3"
  },
  "language_info": {
   "codemirror_mode": {
    "name": "ipython",
    "version": 3
   },
   "file_extension": ".py",
   "mimetype": "text/x-python",
   "name": "python",
   "nbconvert_exporter": "python",
   "pygments_lexer": "ipython3",
   "version": "3.9.7"
  }
 },
 "nbformat": 4,
 "nbformat_minor": 5
}
