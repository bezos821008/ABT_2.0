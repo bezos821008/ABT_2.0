{
 "cells": [
  {
   "cell_type": "code",
   "execution_count": 148,
   "id": "85487472",
   "metadata": {},
   "outputs": [],
   "source": [
    "import numpy as np\n",
    "import pandas as pd\n",
    "import pickle\n",
    "import os\n",
    "import requests\n",
    "from fake_useragent import UserAgent\n",
    "import time"
   ]
  },
  {
   "cell_type": "code",
   "execution_count": null,
   "id": "546d1caa",
   "metadata": {},
   "outputs": [],
   "source": []
  },
  {
   "cell_type": "code",
   "execution_count": null,
   "id": "2fb58a6e",
   "metadata": {},
   "outputs": [],
   "source": []
  },
  {
   "cell_type": "code",
   "execution_count": 149,
   "id": "94595685",
   "metadata": {},
   "outputs": [],
   "source": [
    "def General_FundingRate_Load(File_Name):\n",
    "    file_path = os.getcwd() + '\\Data_Bin\\\\General_FundingRate\\{}.pickle'.format(File_Name)\n",
    "    \n",
    "    with open(file_path, 'rb') as f:\n",
    "        dt = pickle.load(f)\n",
    "    \n",
    "    return(dt)"
   ]
  },
  {
   "cell_type": "code",
   "execution_count": 150,
   "id": "23401e12",
   "metadata": {},
   "outputs": [],
   "source": [
    "gr_dt = General_FundingRate_Load('General_Table')\n",
    "fr_dt = General_FundingRate_Load('FundingRate_Table')"
   ]
  },
  {
   "cell_type": "code",
   "execution_count": null,
   "id": "59d8aa35",
   "metadata": {},
   "outputs": [],
   "source": []
  },
  {
   "cell_type": "code",
   "execution_count": null,
   "id": "56e5703e",
   "metadata": {},
   "outputs": [],
   "source": []
  },
  {
   "cell_type": "code",
   "execution_count": 151,
   "id": "58022286",
   "metadata": {},
   "outputs": [],
   "source": [
    "def General_For_Pandas():\n",
    "    gr_dt = General_FundingRate_Load('General_Table')\n",
    "    \n",
    "    gr_list = []\n",
    "    \n",
    "    for i in gr_dt:\n",
    "        for x in gr_dt[i]:\n",
    "            gr_list.append(x)\n",
    "            \n",
    "    df = pd.DataFrame(gr_list,columns=['Exchange','Public_Symbol','Private_Symbol','Funding_Rate','Type'])\n",
    "    return(df)"
   ]
  },
  {
   "cell_type": "code",
   "execution_count": null,
   "id": "768097d4",
   "metadata": {},
   "outputs": [],
   "source": []
  },
  {
   "cell_type": "code",
   "execution_count": 152,
   "id": "a2d1fce0",
   "metadata": {},
   "outputs": [],
   "source": [
    "df = General_For_Pandas()"
   ]
  },
  {
   "cell_type": "code",
   "execution_count": 153,
   "id": "7a225317",
   "metadata": {
    "scrolled": false
   },
   "outputs": [],
   "source": [
    "min_df = df.sort_values(by=['Funding_Rate'])\n",
    "max_df = df.sort_values(by=['Funding_Rate'], ascending=False)"
   ]
  },
  {
   "cell_type": "code",
   "execution_count": 167,
   "id": "1a8a1f96",
   "metadata": {
    "scrolled": false
   },
   "outputs": [],
   "source": [
    "#max_df.head(10)"
   ]
  },
  {
   "cell_type": "code",
   "execution_count": 168,
   "id": "ed327071",
   "metadata": {},
   "outputs": [],
   "source": [
    "#min_df.head(20)"
   ]
  },
  {
   "cell_type": "code",
   "execution_count": null,
   "id": "3c189088",
   "metadata": {},
   "outputs": [],
   "source": []
  },
  {
   "cell_type": "code",
   "execution_count": 164,
   "id": "866a7cce",
   "metadata": {},
   "outputs": [],
   "source": [
    "def Funding_Rate_For_Pandas():\n",
    "    fr_dt = General_FundingRate_Load('FundingRate_Table')\n",
    "    \n",
    "    fr_list = []\n",
    "    \n",
    "    for i in fr_dt:\n",
    "        fr_list.append(i)\n",
    "     \n",
    "    df = pd.DataFrame(fr_list,columns=['Exchange_A','Exchange_B',\n",
    "                                       'Public_Symbol',\n",
    "                                       'Private_Symbol_A','Private_Symbol_B',\n",
    "                                       'FR_A','FR_B',\n",
    "                                       'FR_Div','FR_Div_Abs'])\n",
    "    \n",
    "#     df = pd.DataFrame(fr_list,columns=['Exchange_A','Exchange_B',\n",
    "#                                        'Public_Symbol',\n",
    "#                                        'Private_A','Private_B',\n",
    "#                                        'FR_A','FR_B',\n",
    "#                                        'FR_Div','FR_Div_Abs'])\n",
    "    \n",
    "    return(df)"
   ]
  },
  {
   "cell_type": "code",
   "execution_count": null,
   "id": "70b40cc1",
   "metadata": {},
   "outputs": [],
   "source": []
  },
  {
   "cell_type": "code",
   "execution_count": 165,
   "id": "b0b97ea2",
   "metadata": {},
   "outputs": [],
   "source": [
    "funding_rate_table = Funding_Rate_For_Pandas()"
   ]
  },
  {
   "cell_type": "code",
   "execution_count": 169,
   "id": "9a0b7808",
   "metadata": {},
   "outputs": [],
   "source": [
    "#funding_rate_table.sort_values(by=['FR_Div_Abs'], ascending=False).head(30)"
   ]
  },
  {
   "cell_type": "code",
   "execution_count": null,
   "id": "f5261add",
   "metadata": {},
   "outputs": [],
   "source": []
  },
  {
   "cell_type": "code",
   "execution_count": null,
   "id": "0e22a6d9",
   "metadata": {},
   "outputs": [],
   "source": []
  },
  {
   "cell_type": "code",
   "execution_count": null,
   "id": "35adf38d",
   "metadata": {},
   "outputs": [],
   "source": []
  },
  {
   "cell_type": "code",
   "execution_count": null,
   "id": "d6647ce2",
   "metadata": {},
   "outputs": [],
   "source": []
  }
 ],
 "metadata": {
  "kernelspec": {
   "display_name": "Python 3 (ipykernel)",
   "language": "python",
   "name": "python3"
  },
  "language_info": {
   "codemirror_mode": {
    "name": "ipython",
    "version": 3
   },
   "file_extension": ".py",
   "mimetype": "text/x-python",
   "name": "python",
   "nbconvert_exporter": "python",
   "pygments_lexer": "ipython3",
   "version": "3.9.7"
  }
 },
 "nbformat": 4,
 "nbformat_minor": 5
}
