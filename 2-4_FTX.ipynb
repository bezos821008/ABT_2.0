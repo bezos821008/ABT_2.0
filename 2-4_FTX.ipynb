{
 "cells": [
  {
   "cell_type": "code",
   "execution_count": 35,
   "id": "3b0bc316",
   "metadata": {},
   "outputs": [],
   "source": [
    "import os\n",
    "import pickle\n",
    "import requests"
   ]
  },
  {
   "cell_type": "code",
   "execution_count": 38,
   "id": "cc9d81c8",
   "metadata": {},
   "outputs": [],
   "source": [
    "url = 'https://ftx.com/api/funding_rates'\n",
    "r = requests.request('GET',url)\n",
    "Response = r.json()['result']"
   ]
  },
  {
   "cell_type": "code",
   "execution_count": null,
   "id": "04e602cf",
   "metadata": {},
   "outputs": [],
   "source": []
  },
  {
   "cell_type": "code",
   "execution_count": null,
   "id": "8b5d673a",
   "metadata": {},
   "outputs": [],
   "source": []
  },
  {
   "cell_type": "code",
   "execution_count": 57,
   "id": "4e4e46e5",
   "metadata": {},
   "outputs": [],
   "source": [
    "def FTX_USDT_List(Response):\n",
    "    USD_USDT_Symbol_List  = []\n",
    "    for i in Response:\n",
    "        base  = i['future'].split('-')[0]\n",
    "        quote = 'USD'\n",
    "        Symbol_List = []\n",
    "        Symbol_List.append('FTX')\n",
    "        Symbol_List.append(base+'_'+quote)\n",
    "        Symbol_List.append(base+'-PERP')\n",
    "        Symbol_List.append(float(i['rate'])*100)\n",
    "        Symbol_List.append('USD-PERP')\n",
    "\n",
    "        USD_USDT_Symbol_List.append(Symbol_List)\n",
    "    return(USD_USDT_Symbol_List)"
   ]
  },
  {
   "cell_type": "code",
   "execution_count": null,
   "id": "2ea5d15e",
   "metadata": {},
   "outputs": [],
   "source": []
  },
  {
   "cell_type": "code",
   "execution_count": null,
   "id": "5d3bc2a8",
   "metadata": {},
   "outputs": [],
   "source": []
  },
  {
   "cell_type": "code",
   "execution_count": 59,
   "id": "fc608491",
   "metadata": {},
   "outputs": [],
   "source": [
    "def Pickle_Save(File_Name,Data):\n",
    "    file_path = os.getcwd() + '\\Data_Bin\\Pickle\\{}.pickle'.format(File_Name)\n",
    "    \n",
    "    with open(file_path, 'wb') as f:\n",
    "        pickle.dump(Data, f)"
   ]
  },
  {
   "cell_type": "code",
   "execution_count": 60,
   "id": "180df091",
   "metadata": {},
   "outputs": [],
   "source": [
    "Pickle_Save('FTX_USD',FTX_USDT_List(Response))"
   ]
  },
  {
   "cell_type": "code",
   "execution_count": null,
   "id": "7bf45dce",
   "metadata": {},
   "outputs": [],
   "source": []
  },
  {
   "cell_type": "code",
   "execution_count": null,
   "id": "47828e9b",
   "metadata": {},
   "outputs": [],
   "source": []
  },
  {
   "cell_type": "code",
   "execution_count": 61,
   "id": "a3bfccb2",
   "metadata": {},
   "outputs": [],
   "source": [
    "def Pickle_Load(File_Name):\n",
    "    file_path = os.getcwd() + '\\Data_Bin\\Pickle\\{}.pickle'.format(File_Name)\n",
    "    \n",
    "    with open(file_path, 'rb') as f:\n",
    "        dt = pickle.load(f)\n",
    "    \n",
    "    return(dt)"
   ]
  },
  {
   "cell_type": "code",
   "execution_count": 63,
   "id": "3dd3f669",
   "metadata": {},
   "outputs": [],
   "source": [
    "#Pickle_Load('FTX_USD')"
   ]
  },
  {
   "cell_type": "code",
   "execution_count": null,
   "id": "b0ed0900",
   "metadata": {},
   "outputs": [],
   "source": []
  }
 ],
 "metadata": {
  "kernelspec": {
   "display_name": "Python 3 (ipykernel)",
   "language": "python",
   "name": "python3"
  },
  "language_info": {
   "codemirror_mode": {
    "name": "ipython",
    "version": 3
   },
   "file_extension": ".py",
   "mimetype": "text/x-python",
   "name": "python",
   "nbconvert_exporter": "python",
   "pygments_lexer": "ipython3",
   "version": "3.9.7"
  }
 },
 "nbformat": 4,
 "nbformat_minor": 5
}
