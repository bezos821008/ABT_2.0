{
 "cells": [
  {
   "cell_type": "code",
   "execution_count": 22,
   "id": "3b0bc316",
   "metadata": {},
   "outputs": [],
   "source": [
    "import os\n",
    "import pickle\n",
    "import requests\n",
    "from fake_useragent import UserAgent"
   ]
  },
  {
   "cell_type": "code",
   "execution_count": null,
   "id": "8b5d673a",
   "metadata": {},
   "outputs": [],
   "source": []
  },
  {
   "cell_type": "code",
   "execution_count": 23,
   "id": "4e4e46e5",
   "metadata": {},
   "outputs": [],
   "source": [
    "def FTX_USD():\n",
    "    \n",
    "    Values  = []\n",
    "    Response = requests.request('GET','https://www.okx.com/api/v5/market/tickers?instType=SWAP',headers={'user-agent': UserAgent().random})\n",
    "    Response.close\n",
    "    Response_Json = Response.json()['data']\n",
    "    \n",
    "    Add_List = []\n",
    "    \n",
    "    for i in Response_Json:\n",
    "        Symbol_List = []\n",
    "        \n",
    "        base  = i['instId'].split('-')[0]\n",
    "        quote = i['instId'].split('-')[1]\n",
    "        \n",
    "        if quote == 'USDT':\n",
    "            Symbol_List.append('FTX')\n",
    "            Symbol_List.append(base+'_'+quote)\n",
    "            Symbol_List.append(base+'/'+'PERP')\n",
    "            Symbol_List.append(0)\n",
    "            Symbol_List.append(quote+'-PERP')\n",
    "            Values.append(Symbol_List)\n",
    "            \n",
    "        \n",
    "    for i in range(len(Values)):\n",
    "        symbol = Values[i][1].split('_')\n",
    "        requests_name = symbol[0]+'-'+symbol[1]+'-SWAP'\n",
    "        Response = requests.request('GET','https://www.okx.com/api/v5/public/funding-rate?instId='+requests_name,headers={'user-agent': UserAgent().random})\n",
    "        Response.close\n",
    "        Response_Json = float(Response.json()['data'][0]['fundingRate'])*100\n",
    "        Values[i][3] = Response_Json\n",
    "    \n",
    "    return(Values)"
   ]
  },
  {
   "cell_type": "code",
   "execution_count": null,
   "id": "5d3bc2a8",
   "metadata": {},
   "outputs": [],
   "source": []
  },
  {
   "cell_type": "code",
   "execution_count": 24,
   "id": "fc608491",
   "metadata": {},
   "outputs": [],
   "source": [
    "def Pickle_Save(File_Name,Data):\n",
    "    file_path = os.getcwd() + '\\Data_Bin\\Pickle\\{}.pickle'.format(File_Name)\n",
    "    \n",
    "    with open(file_path, 'wb') as f:\n",
    "        pickle.dump(Data, f)"
   ]
  },
  {
   "cell_type": "code",
   "execution_count": 25,
   "id": "180df091",
   "metadata": {},
   "outputs": [],
   "source": [
    "Pickle_Save('FTX_USDT',FTX_USD())"
   ]
  },
  {
   "cell_type": "code",
   "execution_count": null,
   "id": "494764e3",
   "metadata": {},
   "outputs": [],
   "source": []
  },
  {
   "cell_type": "code",
   "execution_count": 26,
   "id": "a3bfccb2",
   "metadata": {},
   "outputs": [],
   "source": [
    "def Pickle_Load(File_Name):\n",
    "    file_path = os.getcwd() + '\\Data_Bin\\Pickle\\{}.pickle'.format(File_Name)\n",
    "    \n",
    "    with open(file_path, 'rb') as f:\n",
    "        dt = pickle.load(f)\n",
    "    \n",
    "    return(dt)"
   ]
  },
  {
   "cell_type": "code",
   "execution_count": 28,
   "id": "3dd3f669",
   "metadata": {},
   "outputs": [],
   "source": [
    "#Pickle_Load('FTX_USDT')"
   ]
  },
  {
   "cell_type": "code",
   "execution_count": null,
   "id": "b0ed0900",
   "metadata": {},
   "outputs": [],
   "source": []
  },
  {
   "cell_type": "code",
   "execution_count": null,
   "id": "fca11a18",
   "metadata": {},
   "outputs": [],
   "source": []
  },
  {
   "cell_type": "code",
   "execution_count": null,
   "id": "e51ae48d",
   "metadata": {},
   "outputs": [],
   "source": []
  },
  {
   "cell_type": "code",
   "execution_count": null,
   "id": "0944e5f5",
   "metadata": {},
   "outputs": [],
   "source": []
  },
  {
   "cell_type": "code",
   "execution_count": null,
   "id": "ef0abc95",
   "metadata": {},
   "outputs": [],
   "source": []
  }
 ],
 "metadata": {
  "kernelspec": {
   "display_name": "Python 3 (ipykernel)",
   "language": "python",
   "name": "python3"
  },
  "language_info": {
   "codemirror_mode": {
    "name": "ipython",
    "version": 3
   },
   "file_extension": ".py",
   "mimetype": "text/x-python",
   "name": "python",
   "nbconvert_exporter": "python",
   "pygments_lexer": "ipython3",
   "version": "3.9.7"
  }
 },
 "nbformat": 4,
 "nbformat_minor": 5
}
