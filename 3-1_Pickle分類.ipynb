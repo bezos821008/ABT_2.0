{
 "cells": [
  {
   "cell_type": "code",
   "execution_count": 31,
   "id": "c88abc11",
   "metadata": {},
   "outputs": [],
   "source": [
    "import os\n",
    "import pickle\n",
    "from itertools import combinations"
   ]
  },
  {
   "cell_type": "code",
   "execution_count": null,
   "id": "a9471321",
   "metadata": {},
   "outputs": [],
   "source": []
  },
  {
   "cell_type": "code",
   "execution_count": 32,
   "id": "e731c833",
   "metadata": {},
   "outputs": [],
   "source": [
    "def All_Pair_List():\n",
    "    \n",
    "    Pickle_Ori_Path = []\n",
    "    for i in os.listdir(os.getcwd() +'\\Data_Bin\\Pickle'):\n",
    "        Pickle_Ori_Path.append(os.getcwd() +'\\Data_Bin\\Pickle\\\\'+i)\n",
    "    \n",
    "    Values = []\n",
    "    for i in Pickle_Ori_Path:\n",
    "        with open(i, 'rb') as f:\n",
    "            dt = pickle.load(f)\n",
    "        for x in dt:\n",
    "            Values.append(x)\n",
    "        \n",
    "    return(Values)"
   ]
  },
  {
   "cell_type": "code",
   "execution_count": null,
   "id": "99d7b3c4",
   "metadata": {},
   "outputs": [],
   "source": []
  },
  {
   "cell_type": "code",
   "execution_count": 33,
   "id": "05a21110",
   "metadata": {},
   "outputs": [],
   "source": [
    "def General_Table():\n",
    "    #FC All_Pair_List\n",
    "    Finally_Dict = {}\n",
    "    \n",
    "    dt = All_Pair_List()\n",
    "    \n",
    "    for i in dt:\n",
    "        Target_List=[]\n",
    "        for x in dt:\n",
    "            if i[1]==x[1]:\n",
    "                x[3] = round(x[3],5)\n",
    "                Target_List.append(x)\n",
    "        if len(Target_List)>1:\n",
    "            Finally_Dict[i[1]]=Target_List\n",
    "    return(Finally_Dict)"
   ]
  },
  {
   "cell_type": "code",
   "execution_count": null,
   "id": "9f8c30a4",
   "metadata": {},
   "outputs": [],
   "source": []
  },
  {
   "cell_type": "code",
   "execution_count": 40,
   "id": "d6153582",
   "metadata": {},
   "outputs": [],
   "source": [
    "def FundingRate_Table():\n",
    "    DT = General_FundingRate_Load('General_Table')\n",
    "    \n",
    "    Combinations_Table = []\n",
    "    for i in DT:\n",
    "        General_Dict_Table = combinations(DT[i],2)\n",
    "        for x in General_Dict_Table:\n",
    "            Combinations_Table.append(x)\n",
    "    \n",
    "    FundingRate_Table = []\n",
    "    for i in Combinations_Table:\n",
    "        #print(i)\n",
    "        Combin_table = []\n",
    "        \n",
    "        Combin_table.append(i[0][0])#exchange_1\n",
    "        Combin_table.append(i[1][0])#exchange_2\n",
    "        \n",
    "        Combin_table.append(i[0][1])#public_symbol_12\n",
    "        \n",
    "        Combin_table.append(i[0][2])#private_symbol_1\n",
    "        Combin_table.append(i[1][2])#private_symbol_2\n",
    "        \n",
    "        Combin_table.append(i[0][3])#fundingrate_1\n",
    "        Combin_table.append(i[1][3])#fundingrate_2\n",
    "        \n",
    "        Combin_table.append(round(i[0][3] - i[1][3],5))#fundingrate_div\n",
    "        Combin_table.append(round(abs(i[0][3] - i[1][3]),5))#fundingrate_div_abs\n",
    "        \n",
    "        FundingRate_Table.append(Combin_table)\n",
    "    return(FundingRate_Table)"
   ]
  },
  {
   "cell_type": "code",
   "execution_count": null,
   "id": "de36b85c",
   "metadata": {},
   "outputs": [],
   "source": []
  },
  {
   "cell_type": "code",
   "execution_count": null,
   "id": "322e8fbd",
   "metadata": {},
   "outputs": [],
   "source": []
  },
  {
   "cell_type": "code",
   "execution_count": null,
   "id": "f3a62870",
   "metadata": {},
   "outputs": [],
   "source": []
  },
  {
   "cell_type": "code",
   "execution_count": null,
   "id": "67c6e345",
   "metadata": {},
   "outputs": [],
   "source": []
  },
  {
   "cell_type": "code",
   "execution_count": 41,
   "id": "9d65a16b",
   "metadata": {},
   "outputs": [],
   "source": [
    "def General_FundingRate_Save(File_Name,Data):\n",
    "    file_path = os.getcwd() + '\\Data_Bin\\\\General_FundingRate\\{}.pickle'.format(File_Name)\n",
    "    \n",
    "    with open(file_path, 'wb') as f:\n",
    "        pickle.dump(Data, f)"
   ]
  },
  {
   "cell_type": "code",
   "execution_count": 42,
   "id": "9cfbc32a",
   "metadata": {},
   "outputs": [],
   "source": [
    "def General_FundingRate_Load(File_Name):\n",
    "    file_path = os.getcwd() + '\\Data_Bin\\\\General_FundingRate\\{}.pickle'.format(File_Name)\n",
    "    \n",
    "    with open(file_path, 'rb') as f:\n",
    "        dt = pickle.load(f)\n",
    "    \n",
    "    return(dt)"
   ]
  },
  {
   "cell_type": "code",
   "execution_count": 43,
   "id": "da55788c",
   "metadata": {},
   "outputs": [],
   "source": [
    "General_FundingRate_Save('General_Table',General_Table())"
   ]
  },
  {
   "cell_type": "code",
   "execution_count": 44,
   "id": "df2760ea",
   "metadata": {},
   "outputs": [],
   "source": [
    "General_FundingRate_Save('FundingRate_Table',FundingRate_Table())"
   ]
  },
  {
   "cell_type": "code",
   "execution_count": null,
   "id": "c8b7e6df",
   "metadata": {},
   "outputs": [],
   "source": []
  },
  {
   "cell_type": "code",
   "execution_count": null,
   "id": "a25b26ab",
   "metadata": {},
   "outputs": [],
   "source": []
  }
 ],
 "metadata": {
  "kernelspec": {
   "display_name": "Python 3 (ipykernel)",
   "language": "python",
   "name": "python3"
  },
  "language_info": {
   "codemirror_mode": {
    "name": "ipython",
    "version": 3
   },
   "file_extension": ".py",
   "mimetype": "text/x-python",
   "name": "python",
   "nbconvert_exporter": "python",
   "pygments_lexer": "ipython3",
   "version": "3.9.7"
  }
 },
 "nbformat": 4,
 "nbformat_minor": 5
}
