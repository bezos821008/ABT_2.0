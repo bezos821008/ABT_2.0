{
 "cells": [
  {
   "cell_type": "code",
   "execution_count": 50,
   "id": "ecd63470",
   "metadata": {},
   "outputs": [],
   "source": [
    "import os\n",
    "import pickle\n",
    "import requests"
   ]
  },
  {
   "cell_type": "code",
   "execution_count": 51,
   "id": "2d02f783",
   "metadata": {},
   "outputs": [],
   "source": [
    "#https://api.hbdm.com/swap-api/v1/swap_batch_funding_rate\n",
    "#https://api.hbdm.com/linear-swap-api/v1/swap_batch_funding_rate"
   ]
  },
  {
   "cell_type": "code",
   "execution_count": 52,
   "id": "393e5d9f",
   "metadata": {},
   "outputs": [],
   "source": [
    "# USD_USDT_Symbol_List  = []\n",
    "# for i in Response:\n",
    "#     Currency_Dict = Response[i]\n",
    "#     if Currency_Dict['swap']==True:\n",
    "#         if Currency_Dict['quote'] == 'USDT' or Currency_Dict['quote']=='USD':\n",
    "#             print(Currency_Dict)\n",
    "#             print()\n",
    "#             Symbol_List = []\n",
    "#             base  = Currency_Dict['base']\n",
    "#             quote = Currency_Dict['quote']\n",
    "#             Symbol_List.append('Huobi')\n",
    "#             Symbol_List.append(base + '_' + quote)\n",
    "#             Symbol_List.append(base + '/' + quote + ' Swap')\n",
    "#             Symbol_List.append(float(0.0))\n",
    "#             Symbol_List.append(quote+'-PERP')\n",
    "#             USD_USDT_Symbol_List.append(Symbol_List)"
   ]
  },
  {
   "cell_type": "code",
   "execution_count": null,
   "id": "c987c771",
   "metadata": {},
   "outputs": [],
   "source": []
  },
  {
   "cell_type": "code",
   "execution_count": null,
   "id": "ce14c3e1",
   "metadata": {},
   "outputs": [],
   "source": []
  },
  {
   "cell_type": "code",
   "execution_count": null,
   "id": "d3431e45",
   "metadata": {},
   "outputs": [],
   "source": []
  },
  {
   "cell_type": "code",
   "execution_count": null,
   "id": "a14d6a5f",
   "metadata": {},
   "outputs": [],
   "source": []
  },
  {
   "cell_type": "code",
   "execution_count": 53,
   "id": "ef01cb8f",
   "metadata": {},
   "outputs": [],
   "source": [
    "\n",
    "# url = 'https://api.hbdm.com/swap-api/v1/swap_funding_rate?contract_code=BTC-USDT'\n",
    "# r = requests.request('GET',url)\n",
    "# Response = r.json()"
   ]
  },
  {
   "cell_type": "code",
   "execution_count": null,
   "id": "0457a606",
   "metadata": {},
   "outputs": [],
   "source": []
  },
  {
   "cell_type": "code",
   "execution_count": null,
   "id": "d99778d4",
   "metadata": {},
   "outputs": [],
   "source": []
  },
  {
   "cell_type": "code",
   "execution_count": null,
   "id": "2ebf99af",
   "metadata": {},
   "outputs": [],
   "source": []
  }
 ],
 "metadata": {
  "kernelspec": {
   "display_name": "Python 3 (ipykernel)",
   "language": "python",
   "name": "python3"
  },
  "language_info": {
   "codemirror_mode": {
    "name": "ipython",
    "version": 3
   },
   "file_extension": ".py",
   "mimetype": "text/x-python",
   "name": "python",
   "nbconvert_exporter": "python",
   "pygments_lexer": "ipython3",
   "version": "3.9.7"
  }
 },
 "nbformat": 4,
 "nbformat_minor": 5
}
