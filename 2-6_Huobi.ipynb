{
 "cells": [
  {
   "cell_type": "code",
   "execution_count": 1,
   "id": "ecd63470",
   "metadata": {},
   "outputs": [],
   "source": [
    "import os\n",
    "import pickle\n",
    "import requests\n",
    "from fake_useragent import UserAgent"
   ]
  },
  {
   "cell_type": "code",
   "execution_count": null,
   "id": "ce14c3e1",
   "metadata": {},
   "outputs": [],
   "source": []
  },
  {
   "cell_type": "code",
   "execution_count": 2,
   "id": "d3431e45",
   "metadata": {},
   "outputs": [],
   "source": [
    "def Huobi_USD():\n",
    "    \n",
    "    Values  = []\n",
    "    \n",
    "    Response = requests.request('GET','https://api.hbdm.com/swap-api/v1/swap_batch_funding_rate',headers={'user-agent': UserAgent().random})\n",
    "    Response.close\n",
    "    \n",
    "    Response_Json = Response.json()['data']\n",
    "    \n",
    "    for i in Response_Json:\n",
    "        Symbol_List = []\n",
    "        symbol = i['contract_code'].split('-')\n",
    "        base  = symbol[0]\n",
    "        quote = symbol[1]\n",
    "        Symbol_List.append('Huobi')\n",
    "        Symbol_List.append(base + '_' + quote)\n",
    "        Symbol_List.append(base + '/' + quote + ' SWAP')\n",
    "        Symbol_List.append(float(i['funding_rate'])*100)\n",
    "        Symbol_List.append(quote+'-PERP')\n",
    "\n",
    "        Values.append(Symbol_List)\n",
    "    return(Values)"
   ]
  },
  {
   "cell_type": "code",
   "execution_count": null,
   "id": "a14d6a5f",
   "metadata": {},
   "outputs": [],
   "source": []
  },
  {
   "cell_type": "code",
   "execution_count": 3,
   "id": "574237b1",
   "metadata": {},
   "outputs": [],
   "source": [
    "def Huobi_USDT():\n",
    "    \n",
    "    Values  = []\n",
    "    \n",
    "    Response = requests.request('GET','https://api.hbdm.com/linear-swap-api/v1/swap_batch_funding_rate',headers={'user-agent': UserAgent().random})\n",
    "    Response.close\n",
    "    \n",
    "    Response_Json = Response.json()['data']\n",
    "    \n",
    "    for i in Response_Json:\n",
    "        Symbol_List = []\n",
    "        symbol = i['contract_code'].split('-')\n",
    "        if len(symbol)<3:\n",
    "            base  = symbol[0]\n",
    "            quote = symbol[1]\n",
    "            Symbol_List.append('Huobi')\n",
    "            Symbol_List.append(base + '_' + quote)\n",
    "            Symbol_List.append(base + '/' + quote + ' SWAP')\n",
    "\n",
    "            Symbol_List.append(float(i['funding_rate'])*100)\n",
    "            Symbol_List.append(quote+'-PERP')\n",
    "            Values.append(Symbol_List)\n",
    "    return(Values)"
   ]
  },
  {
   "cell_type": "code",
   "execution_count": null,
   "id": "20906998",
   "metadata": {},
   "outputs": [],
   "source": []
  },
  {
   "cell_type": "code",
   "execution_count": 4,
   "id": "0b17e385",
   "metadata": {},
   "outputs": [],
   "source": [
    "def Pickle_Save(File_Name,Data):\n",
    "    file_path = os.getcwd() + '\\Data_Bin\\Pickle\\{}.pickle'.format(File_Name)\n",
    "    \n",
    "    with open(file_path, 'wb') as f:\n",
    "        pickle.dump(Data, f)"
   ]
  },
  {
   "cell_type": "code",
   "execution_count": null,
   "id": "3387240d",
   "metadata": {},
   "outputs": [],
   "source": []
  },
  {
   "cell_type": "code",
   "execution_count": 5,
   "id": "bc4971e0",
   "metadata": {},
   "outputs": [],
   "source": [
    "Pickle_Save('Huobi_USD',Huobi_USD())\n",
    "Pickle_Save('Huobi_USDT',Huobi_USDT())"
   ]
  },
  {
   "cell_type": "code",
   "execution_count": null,
   "id": "7699ee68",
   "metadata": {},
   "outputs": [],
   "source": []
  },
  {
   "cell_type": "code",
   "execution_count": 6,
   "id": "cc97d69b",
   "metadata": {},
   "outputs": [],
   "source": [
    "def Pickle_Load(File_Name):\n",
    "    file_path = os.getcwd() + '\\Data_Bin\\Pickle\\{}.pickle'.format(File_Name)\n",
    "    \n",
    "    with open(file_path, 'rb') as f:\n",
    "        dt = pickle.load(f)\n",
    "    \n",
    "    return(dt)"
   ]
  },
  {
   "cell_type": "code",
   "execution_count": null,
   "id": "30e58d8c",
   "metadata": {},
   "outputs": [],
   "source": []
  },
  {
   "cell_type": "code",
   "execution_count": 14,
   "id": "353c52fd",
   "metadata": {},
   "outputs": [],
   "source": [
    "#Pickle_Load('Huobi_USD')"
   ]
  },
  {
   "cell_type": "code",
   "execution_count": 16,
   "id": "1340de85",
   "metadata": {},
   "outputs": [],
   "source": [
    "#Pickle_Load('Huobi_USDT')"
   ]
  },
  {
   "cell_type": "code",
   "execution_count": null,
   "id": "872e4d15",
   "metadata": {},
   "outputs": [],
   "source": []
  }
 ],
 "metadata": {
  "kernelspec": {
   "display_name": "Python 3 (ipykernel)",
   "language": "python",
   "name": "python3"
  },
  "language_info": {
   "codemirror_mode": {
    "name": "ipython",
    "version": 3
   },
   "file_extension": ".py",
   "mimetype": "text/x-python",
   "name": "python",
   "nbconvert_exporter": "python",
   "pygments_lexer": "ipython3",
   "version": "3.9.7"
  }
 },
 "nbformat": 4,
 "nbformat_minor": 5
}
